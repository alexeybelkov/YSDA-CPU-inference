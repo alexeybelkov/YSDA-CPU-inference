{
 "cells": [
  {
   "cell_type": "code",
   "execution_count": 1,
   "metadata": {},
   "outputs": [
    {
     "name": "stdout",
     "output_type": "stream",
     "text": [
      "DEFAULT: 4 4\n",
      "4 4\n",
      "ATen/Parallel:\n",
      "\tat::get_num_threads() : 4\n",
      "\tat::get_num_interop_threads() : 4\n",
      "OpenMP 201511 (a.k.a. OpenMP 4.5)\n",
      "\tomp_get_max_threads() : 4\n",
      "Intel(R) oneAPI Math Kernel Library Version 2022.2-Product Build 20220804 for Intel(R) 64 architecture applications\n",
      "\tmkl_get_max_threads() : 4\n",
      "Intel(R) MKL-DNN v3.1.1 (Git Hash 64f6bcbcbab628e96f33a62c3e975f8535a7bde4)\n",
      "std::thread::hardware_concurrency() : 8\n",
      "Environment variables:\n",
      "\tOMP_NUM_THREADS : [not set]\n",
      "\tMKL_NUM_THREADS : [not set]\n",
      "ATen parallel backend: OpenMP\n",
      "\n"
     ]
    }
   ],
   "source": [
    "import torch\n",
    "import torchvision\n",
    "from PIL import Image\n",
    "import numpy as np\n",
    "import random\n",
    "from tqdm import tqdm\n",
    "from datasets import load_dataset\n",
    "import torch.multiprocessing\n",
    "import os\n",
    "from torch import nn\n",
    "\n",
    "print('DEFAULT:', torch.get_num_threads(), torch.get_num_interop_threads())\n",
    "# os.environ['OMP_NUM_THREADS'] = '1'\n",
    "# os.environ['MKL_NUM_THREADS'] = '1'\n",
    "# torch.set_num_threads(1), torch.set_num_interop_threads(1)\n",
    "print(torch.get_num_threads(), torch.get_num_interop_threads())\n",
    "print(torch.__config__.parallel_info())\n",
    "\n",
    "torch.multiprocessing.set_sharing_strategy('file_system')"
   ]
  },
  {
   "cell_type": "code",
   "execution_count": 2,
   "metadata": {},
   "outputs": [],
   "source": [
    "model = torchvision.models.vit_b_16(weights=torchvision.models.ViT_B_16_Weights.IMAGENET1K_V1)\n",
    "model.eval()\n",
    "transforms = torchvision.models.ViT_B_16_Weights.IMAGENET1K_V1.transforms"
   ]
  },
  {
   "cell_type": "code",
   "execution_count": 3,
   "metadata": {},
   "outputs": [],
   "source": [
    "with open('../imagenet1000.txt', 'r') as fopen:\n",
    "    lines = fopen.readlines()\n",
    "\n",
    "def process_classes(line: str):\n",
    "    splitted = line.strip().removeprefix('{').removesuffix(',').split(':')\n",
    "    return (int(splitted[0]), splitted[1].strip().strip('\\''))\n",
    "\n",
    "orig_classes = dict(map(process_classes, lines))\n",
    "\n",
    "imagenette_classes = dict(enumerate(['tench', 'English springer', 'cassette player', 'chain saw', 'church', 'French horn', 'garbage truck', 'gas pump', 'golf ball', 'parachute']))\n",
    "\n",
    "for k, v in imagenette_classes.items():\n",
    "    for k1, v1 in orig_classes.items():\n",
    "        if v in v1:\n",
    "            imagenette_classes[k] = k1"
   ]
  },
  {
   "cell_type": "code",
   "execution_count": 4,
   "metadata": {},
   "outputs": [],
   "source": [
    "class Dataset(torch.utils.data.Dataset):\n",
    "    def __init__(self, datasource, transforms: callable):\n",
    "        super().__init__()\n",
    "        self.transforms = transforms\n",
    "        self.datasource = datasource\n",
    "\n",
    "    def __len__(self) -> int:\n",
    "        return len(self.datasource)\n",
    "\n",
    "    def __getitem__(self, index: int) -> torch.Tensor:\n",
    "        data = self.datasource[index]\n",
    "        image, label = data['image'], data['label']\n",
    "        if image.mode != 'RGB':\n",
    "            image = Image.fromarray(np.array(image)[..., None].repeat(3, -1))\n",
    "        return self.transforms(image), imagenette_classes[label]"
   ]
  },
  {
   "cell_type": "code",
   "execution_count": 5,
   "metadata": {},
   "outputs": [],
   "source": [
    "imagenette_train = load_dataset('frgfm/imagenette', '320px', split='train')\n",
    "imagenette_valid = load_dataset('frgfm/imagenette', '320px', split='validation')"
   ]
  },
  {
   "cell_type": "code",
   "execution_count": 6,
   "metadata": {},
   "outputs": [],
   "source": [
    "num_workers = 4\n",
    "batch_size = 1"
   ]
  },
  {
   "cell_type": "code",
   "execution_count": 7,
   "metadata": {},
   "outputs": [],
   "source": [
    "tf = transforms()\n",
    "trainset = Dataset(datasource=imagenette_train, transforms=tf)\n",
    "validset = Dataset(datasource=imagenette_valid, transforms=tf)\n",
    "valid_dataloader = torch.utils.data.DataLoader(validset, num_workers=num_workers, batch_size=batch_size, shuffle=False)"
   ]
  },
  {
   "cell_type": "code",
   "execution_count": 8,
   "metadata": {},
   "outputs": [],
   "source": [
    "def nbytes(model: torch.nn.Module):\n",
    "    n = 0\n",
    "    for p in model.parameters():\n",
    "        n += p.nbytes\n",
    "    return n / 1024 ** 2"
   ]
  },
  {
   "cell_type": "code",
   "execution_count": 9,
   "metadata": {},
   "outputs": [
    {
     "data": {
      "text/plain": [
       "<torch._C.Generator at 0x7f48e433ccd0>"
      ]
     },
     "execution_count": 9,
     "metadata": {},
     "output_type": "execute_result"
    }
   ],
   "source": [
    "from torch.profiler import profile, record_function, ProfilerActivity\n",
    "from itertools import product\n",
    "from torch.quantization.observer import MinMaxObserver, MovingAverageMinMaxObserver, HistogramObserver\n",
    "from torch.ao.quantization import get_default_qconfig_mapping, get_default_qconfig\n",
    "from torch.quantization.quantize_fx import prepare_fx, convert_fx\n",
    "from torch.ao.quantization import QConfigMapping\n",
    "import gc\n",
    "from contextlib import nullcontext\n",
    "from timeit import timeit\n",
    "import time\n",
    "from sklearn.metrics import accuracy_score, top_k_accuracy_score\n",
    "import datetime\n",
    "# import torch.quantization._numeric_suite as ns\n",
    "import torch.quantization._numeric_suite_fx as ns\n",
    "\n",
    "def fix_seed(worker_id=0, seed=0xBADCAFE):\n",
    "    random.seed(seed)\n",
    "    np.random.seed(seed)\n",
    "    torch.manual_seed(seed)\n",
    "    torch.backends.cudnn.deterministic = True\n",
    "    torch.backends.cudnn.benchmark = False\n",
    "\n",
    "fix_seed()\n",
    "\n",
    "torch_generator = torch.Generator()\n",
    "torch_generator.manual_seed(0xBADCAFFE)"
   ]
  },
  {
   "cell_type": "code",
   "execution_count": 10,
   "metadata": {},
   "outputs": [],
   "source": [
    "from tqdm.notebook import tqdm\n",
    "from copy import deepcopy"
   ]
  },
  {
   "cell_type": "code",
   "execution_count": 11,
   "metadata": {},
   "outputs": [],
   "source": [
    "copy_model = deepcopy(model)\n",
    "module_a = deepcopy(model)\n",
    "module_a.heads.head = nn.Identity()\n",
    "module_b = model.heads.head\n",
    "# model = LoggerModule(module_a, module_b)"
   ]
  },
  {
   "cell_type": "code",
   "execution_count": 12,
   "metadata": {},
   "outputs": [
    {
     "name": "stdout",
     "output_type": "stream",
     "text": [
      "INFO:nncf:NNCF initialized successfully. Supported frameworks detected: torch, onnx, openvino\n",
      "WARNING:nncf:NNCF provides best results with torch==2.0.1, while current torch version is 2.1.0+cu121. If you encounter issues, consider switching to torch==2.0.1\n",
      "INFO:nncf:No match has been found among the model operations for the following ignored/target scope definitions:\n",
      " - ignored_scope: ['{re}.*Embeddings.*', '{re}.*__truediv__*', '{re}.*matmul_1']\n",
      "Refer to the original_graph.dot to discover the operations in the model currently visible to NNCF and specify the ignored/target scopes in terms of the names there.\n",
      "INFO:nncf:Not adding activation input quantizer for operation: 5 VisionTransformer/Encoder[encoder]/__add___0\n",
      "INFO:nncf:Not adding activation input quantizer for operation: 7 VisionTransformer/Encoder[encoder]/Sequential[layers]/EncoderBlock[encoder_layer_0]/NNCFLayerNorm[ln_1]/layer_norm_0\n",
      "INFO:nncf:Not adding activation input quantizer for operation: 9 VisionTransformer/Encoder[encoder]/Sequential[layers]/EncoderBlock[encoder_layer_0]/__add___0\n",
      "INFO:nncf:Not adding activation input quantizer for operation: 10 VisionTransformer/Encoder[encoder]/Sequential[layers]/EncoderBlock[encoder_layer_0]/NNCFLayerNorm[ln_2]/layer_norm_0\n",
      "INFO:nncf:Not adding activation input quantizer for operation: 16 VisionTransformer/Encoder[encoder]/Sequential[layers]/EncoderBlock[encoder_layer_0]/__add___1\n",
      "INFO:nncf:Not adding activation input quantizer for operation: 17 VisionTransformer/Encoder[encoder]/Sequential[layers]/EncoderBlock[encoder_layer_1]/NNCFLayerNorm[ln_1]/layer_norm_0\n",
      "INFO:nncf:Not adding activation input quantizer for operation: 19 VisionTransformer/Encoder[encoder]/Sequential[layers]/EncoderBlock[encoder_layer_1]/__add___0\n",
      "INFO:nncf:Not adding activation input quantizer for operation: 20 VisionTransformer/Encoder[encoder]/Sequential[layers]/EncoderBlock[encoder_layer_1]/NNCFLayerNorm[ln_2]/layer_norm_0\n",
      "INFO:nncf:Not adding activation input quantizer for operation: 26 VisionTransformer/Encoder[encoder]/Sequential[layers]/EncoderBlock[encoder_layer_1]/__add___1\n",
      "INFO:nncf:Not adding activation input quantizer for operation: 27 VisionTransformer/Encoder[encoder]/Sequential[layers]/EncoderBlock[encoder_layer_2]/NNCFLayerNorm[ln_1]/layer_norm_0\n",
      "INFO:nncf:Not adding activation input quantizer for operation: 29 VisionTransformer/Encoder[encoder]/Sequential[layers]/EncoderBlock[encoder_layer_2]/__add___0\n",
      "INFO:nncf:Not adding activation input quantizer for operation: 30 VisionTransformer/Encoder[encoder]/Sequential[layers]/EncoderBlock[encoder_layer_2]/NNCFLayerNorm[ln_2]/layer_norm_0\n",
      "INFO:nncf:Not adding activation input quantizer for operation: 36 VisionTransformer/Encoder[encoder]/Sequential[layers]/EncoderBlock[encoder_layer_2]/__add___1\n",
      "INFO:nncf:Not adding activation input quantizer for operation: 37 VisionTransformer/Encoder[encoder]/Sequential[layers]/EncoderBlock[encoder_layer_3]/NNCFLayerNorm[ln_1]/layer_norm_0\n",
      "INFO:nncf:Not adding activation input quantizer for operation: 39 VisionTransformer/Encoder[encoder]/Sequential[layers]/EncoderBlock[encoder_layer_3]/__add___0\n",
      "INFO:nncf:Not adding activation input quantizer for operation: 40 VisionTransformer/Encoder[encoder]/Sequential[layers]/EncoderBlock[encoder_layer_3]/NNCFLayerNorm[ln_2]/layer_norm_0\n",
      "INFO:nncf:Not adding activation input quantizer for operation: 46 VisionTransformer/Encoder[encoder]/Sequential[layers]/EncoderBlock[encoder_layer_3]/__add___1\n",
      "INFO:nncf:Not adding activation input quantizer for operation: 47 VisionTransformer/Encoder[encoder]/Sequential[layers]/EncoderBlock[encoder_layer_4]/NNCFLayerNorm[ln_1]/layer_norm_0\n",
      "INFO:nncf:Not adding activation input quantizer for operation: 49 VisionTransformer/Encoder[encoder]/Sequential[layers]/EncoderBlock[encoder_layer_4]/__add___0\n",
      "INFO:nncf:Not adding activation input quantizer for operation: 50 VisionTransformer/Encoder[encoder]/Sequential[layers]/EncoderBlock[encoder_layer_4]/NNCFLayerNorm[ln_2]/layer_norm_0\n",
      "INFO:nncf:Not adding activation input quantizer for operation: 56 VisionTransformer/Encoder[encoder]/Sequential[layers]/EncoderBlock[encoder_layer_4]/__add___1\n",
      "INFO:nncf:Not adding activation input quantizer for operation: 57 VisionTransformer/Encoder[encoder]/Sequential[layers]/EncoderBlock[encoder_layer_5]/NNCFLayerNorm[ln_1]/layer_norm_0\n",
      "INFO:nncf:Not adding activation input quantizer for operation: 59 VisionTransformer/Encoder[encoder]/Sequential[layers]/EncoderBlock[encoder_layer_5]/__add___0\n",
      "INFO:nncf:Not adding activation input quantizer for operation: 60 VisionTransformer/Encoder[encoder]/Sequential[layers]/EncoderBlock[encoder_layer_5]/NNCFLayerNorm[ln_2]/layer_norm_0\n",
      "INFO:nncf:Not adding activation input quantizer for operation: 66 VisionTransformer/Encoder[encoder]/Sequential[layers]/EncoderBlock[encoder_layer_5]/__add___1\n",
      "INFO:nncf:Not adding activation input quantizer for operation: 67 VisionTransformer/Encoder[encoder]/Sequential[layers]/EncoderBlock[encoder_layer_6]/NNCFLayerNorm[ln_1]/layer_norm_0\n",
      "INFO:nncf:Not adding activation input quantizer for operation: 69 VisionTransformer/Encoder[encoder]/Sequential[layers]/EncoderBlock[encoder_layer_6]/__add___0\n",
      "INFO:nncf:Not adding activation input quantizer for operation: 70 VisionTransformer/Encoder[encoder]/Sequential[layers]/EncoderBlock[encoder_layer_6]/NNCFLayerNorm[ln_2]/layer_norm_0\n",
      "INFO:nncf:Not adding activation input quantizer for operation: 76 VisionTransformer/Encoder[encoder]/Sequential[layers]/EncoderBlock[encoder_layer_6]/__add___1\n",
      "INFO:nncf:Not adding activation input quantizer for operation: 77 VisionTransformer/Encoder[encoder]/Sequential[layers]/EncoderBlock[encoder_layer_7]/NNCFLayerNorm[ln_1]/layer_norm_0\n",
      "INFO:nncf:Not adding activation input quantizer for operation: 79 VisionTransformer/Encoder[encoder]/Sequential[layers]/EncoderBlock[encoder_layer_7]/__add___0\n",
      "INFO:nncf:Not adding activation input quantizer for operation: 80 VisionTransformer/Encoder[encoder]/Sequential[layers]/EncoderBlock[encoder_layer_7]/NNCFLayerNorm[ln_2]/layer_norm_0\n",
      "INFO:nncf:Not adding activation input quantizer for operation: 86 VisionTransformer/Encoder[encoder]/Sequential[layers]/EncoderBlock[encoder_layer_7]/__add___1\n",
      "INFO:nncf:Not adding activation input quantizer for operation: 87 VisionTransformer/Encoder[encoder]/Sequential[layers]/EncoderBlock[encoder_layer_8]/NNCFLayerNorm[ln_1]/layer_norm_0\n",
      "INFO:nncf:Not adding activation input quantizer for operation: 89 VisionTransformer/Encoder[encoder]/Sequential[layers]/EncoderBlock[encoder_layer_8]/__add___0\n",
      "INFO:nncf:Not adding activation input quantizer for operation: 90 VisionTransformer/Encoder[encoder]/Sequential[layers]/EncoderBlock[encoder_layer_8]/NNCFLayerNorm[ln_2]/layer_norm_0\n",
      "INFO:nncf:Not adding activation input quantizer for operation: 96 VisionTransformer/Encoder[encoder]/Sequential[layers]/EncoderBlock[encoder_layer_8]/__add___1\n",
      "INFO:nncf:Not adding activation input quantizer for operation: 97 VisionTransformer/Encoder[encoder]/Sequential[layers]/EncoderBlock[encoder_layer_9]/NNCFLayerNorm[ln_1]/layer_norm_0\n",
      "INFO:nncf:Not adding activation input quantizer for operation: 99 VisionTransformer/Encoder[encoder]/Sequential[layers]/EncoderBlock[encoder_layer_9]/__add___0\n",
      "INFO:nncf:Not adding activation input quantizer for operation: 100 VisionTransformer/Encoder[encoder]/Sequential[layers]/EncoderBlock[encoder_layer_9]/NNCFLayerNorm[ln_2]/layer_norm_0\n",
      "INFO:nncf:Not adding activation input quantizer for operation: 106 VisionTransformer/Encoder[encoder]/Sequential[layers]/EncoderBlock[encoder_layer_9]/__add___1\n",
      "INFO:nncf:Not adding activation input quantizer for operation: 107 VisionTransformer/Encoder[encoder]/Sequential[layers]/EncoderBlock[encoder_layer_10]/NNCFLayerNorm[ln_1]/layer_norm_0\n",
      "INFO:nncf:Not adding activation input quantizer for operation: 109 VisionTransformer/Encoder[encoder]/Sequential[layers]/EncoderBlock[encoder_layer_10]/__add___0\n",
      "INFO:nncf:Not adding activation input quantizer for operation: 110 VisionTransformer/Encoder[encoder]/Sequential[layers]/EncoderBlock[encoder_layer_10]/NNCFLayerNorm[ln_2]/layer_norm_0\n",
      "INFO:nncf:Not adding activation input quantizer for operation: 116 VisionTransformer/Encoder[encoder]/Sequential[layers]/EncoderBlock[encoder_layer_10]/__add___1\n",
      "INFO:nncf:Not adding activation input quantizer for operation: 117 VisionTransformer/Encoder[encoder]/Sequential[layers]/EncoderBlock[encoder_layer_11]/NNCFLayerNorm[ln_1]/layer_norm_0\n",
      "INFO:nncf:Not adding activation input quantizer for operation: 119 VisionTransformer/Encoder[encoder]/Sequential[layers]/EncoderBlock[encoder_layer_11]/__add___0\n",
      "INFO:nncf:Not adding activation input quantizer for operation: 120 VisionTransformer/Encoder[encoder]/Sequential[layers]/EncoderBlock[encoder_layer_11]/NNCFLayerNorm[ln_2]/layer_norm_0\n",
      "INFO:nncf:Not adding activation input quantizer for operation: 126 VisionTransformer/Encoder[encoder]/Sequential[layers]/EncoderBlock[encoder_layer_11]/__add___1\n",
      "INFO:nncf:Not adding activation input quantizer for operation: 127 VisionTransformer/Encoder[encoder]/NNCFLayerNorm[ln]/layer_norm_0\n",
      "INFO:nncf:Collecting tensor statistics |█               | 113 / 1024\n",
      "INFO:nncf:Collecting tensor statistics |███             | 226 / 1024\n",
      "INFO:nncf:Collecting tensor statistics |█████           | 339 / 1024\n",
      "INFO:nncf:Collecting tensor statistics |███████         | 452 / 1024\n",
      "INFO:nncf:Collecting tensor statistics |████████        | 565 / 1024\n",
      "INFO:nncf:Collecting tensor statistics |██████████      | 678 / 1024\n",
      "INFO:nncf:Collecting tensor statistics |████████████    | 791 / 1024\n",
      "INFO:nncf:Collecting tensor statistics |██████████████  | 904 / 1024\n",
      "INFO:nncf:Collecting tensor statistics |███████████████ | 1017 / 1024\n",
      "INFO:nncf:Collecting tensor statistics |████████████████| 1024 / 1024\n",
      "INFO:nncf:Compiling and loading torch extension: quantized_functions_cpu...\n",
      "INFO:nncf:Finished loading torch extension: quantized_functions_cpu\n"
     ]
    }
   ],
   "source": [
    "import nncf\n",
    "import torch\n",
    "\n",
    "\n",
    "def transform_fn(data_item):\n",
    "    images, _ = data_item\n",
    "    return images\n",
    "\n",
    "with torch.inference_mode():\n",
    "    calibration_dataset_a = nncf.Dataset(valid_dataloader, transform_fn)\n",
    "    quantized_module_a = nncf.quantize(module_a, calibration_dataset_a, model_type=nncf.ModelType.TRANSFORMER,  subset_size=1024)"
   ]
  },
  {
   "cell_type": "code",
   "execution_count": 13,
   "metadata": {},
   "outputs": [
    {
     "data": {
      "application/vnd.jupyter.widget-view+json": {
       "model_id": "c54e248d17274d3b88415120f860d1c1",
       "version_major": 2,
       "version_minor": 0
      },
      "text/plain": [
       "  0%|          | 0/3925 [00:00<?, ?it/s]"
      ]
     },
     "metadata": {},
     "output_type": "display_data"
    }
   ],
   "source": [
    "from typing import Iterable, Optional, Union, List, Tuple, Any\n",
    "\n",
    "with torch.inference_mode():\n",
    "    embeddigs = [quantized_module_a(x) for x, _ in tqdm(valid_dataloader)]\n",
    "\n",
    "\n",
    "class IterDataset(torch.utils.data.Dataset):\n",
    "    def __init__(self, source: Union[List, Tuple], labels: Optional[Union[List, Tuple]] = None):\n",
    "        self.source = source\n",
    "        self.labels = labels\n",
    "    def __len__(self) -> int:\n",
    "        return len(self.source)\n",
    "    def __getitem__(self, index: int) -> Tuple[Any, Any]:\n",
    "        return self.source[index], index if self.labels is None else self.labels[index]\n",
    "\n",
    "embeddigs_dataset = IterDataset(embeddigs)\n",
    "embeddigs_loader = torch.utils.data.DataLoader(embeddigs_dataset, num_workers=num_workers, batch_size=batch_size, shuffle=False)"
   ]
  },
  {
   "cell_type": "code",
   "execution_count": 14,
   "metadata": {},
   "outputs": [
    {
     "name": "stdout",
     "output_type": "stream",
     "text": [
      "INFO:nncf:Collecting tensor statistics |█               | 113 / 1024\n",
      "INFO:nncf:Collecting tensor statistics |███             | 226 / 1024\n",
      "INFO:nncf:Collecting tensor statistics |█████           | 339 / 1024\n",
      "INFO:nncf:Collecting tensor statistics |███████         | 452 / 1024\n",
      "INFO:nncf:Collecting tensor statistics |████████        | 565 / 1024\n",
      "INFO:nncf:Collecting tensor statistics |██████████      | 678 / 1024\n",
      "INFO:nncf:Collecting tensor statistics |████████████    | 791 / 1024\n",
      "INFO:nncf:Collecting tensor statistics |██████████████  | 904 / 1024\n",
      "INFO:nncf:Collecting tensor statistics |███████████████ | 1017 / 1024\n",
      "INFO:nncf:Collecting tensor statistics |████████████████| 1024 / 1024\n",
      "INFO:nncf:BatchNorm statistics adaptation |█               | 113 / 1024\n",
      "INFO:nncf:BatchNorm statistics adaptation |███             | 226 / 1024\n",
      "INFO:nncf:BatchNorm statistics adaptation |█████           | 339 / 1024\n",
      "INFO:nncf:BatchNorm statistics adaptation |███████         | 452 / 1024\n",
      "INFO:nncf:BatchNorm statistics adaptation |████████        | 565 / 1024\n",
      "INFO:nncf:BatchNorm statistics adaptation |██████████      | 678 / 1024\n",
      "INFO:nncf:BatchNorm statistics adaptation |████████████    | 791 / 1024\n",
      "INFO:nncf:BatchNorm statistics adaptation |██████████████  | 904 / 1024\n",
      "INFO:nncf:BatchNorm statistics adaptation |███████████████ | 1017 / 1024\n",
      "INFO:nncf:BatchNorm statistics adaptation |████████████████| 1024 / 1024\n"
     ]
    }
   ],
   "source": [
    "with torch.inference_mode():\n",
    "    calibration_dataset_b = nncf.Dataset(embeddigs_loader, transform_fn)\n",
    "    quantized_module_b = nncf.quantize(module_b, calibration_dataset_b, subset_size=1024)"
   ]
  },
  {
   "cell_type": "code",
   "execution_count": 17,
   "metadata": {},
   "outputs": [],
   "source": [
    "import openvino as ov\n",
    "# from openvino.tools.mo import convert_model\n"
   ]
  },
  {
   "cell_type": "code",
   "execution_count": 28,
   "metadata": {},
   "outputs": [],
   "source": [
    "vit_a_int8_path = '../onnx/vit_a_int8.onnx'\n",
    "vit_b_int8_path = '../onnx/vit_b_int8.onnx'"
   ]
  },
  {
   "cell_type": "code",
   "execution_count": 30,
   "metadata": {},
   "outputs": [],
   "source": [
    "# ov.save_model(quantized_module_a, vit_a_int8_path, compress_to_fp16=False)\n",
    "# ov.save_model(quantized_module_b, vit_b_int8_path, compress_to_fp16=False)"
   ]
  },
  {
   "cell_type": "markdown",
   "metadata": {},
   "source": [
    "input_f32 = validset[0][0][None]\n",
    "with torch.inference_mode():\n",
    "    torch.onnx.export(quantized_module_a, input_f32, '../onnx/q_vitb16_a.onnx')\n",
    "    input_f32 = torch.rand_like(embeddigs[0])\n",
    "    torch.onnx.export(quantized_module_b, input_f32, '../onnx/q_vitb16_b.onnx')"
   ]
  },
  {
   "cell_type": "markdown",
   "metadata": {},
   "source": [
    "int8_a = ov.compile_model(quantized_module_a)\n",
    "int8_b = ov.compile_model(quantized_module_b)"
   ]
  },
  {
   "cell_type": "code",
   "execution_count": 33,
   "metadata": {},
   "outputs": [
    {
     "data": {
      "application/vnd.jupyter.widget-view+json": {
       "model_id": "55ce1c6a88a74e7ba43996e905409fa5",
       "version_major": 2,
       "version_minor": 0
      },
      "text/plain": [
       "  0%|          | 0/3925 [00:00<?, ?it/s]"
      ]
     },
     "metadata": {},
     "output_type": "display_data"
    }
   ],
   "source": [
    "from sklearn.metrics import accuracy_score\n",
    "gt = []\n",
    "pred = []\n",
    "# embeddings = []\n",
    "Y = []\n",
    "with torch.inference_mode():\n",
    "    for x, y in tqdm(valid_dataloader):\n",
    "        emb = quantized_module_a(x)\n",
    "        # embeddings.append(emb)\n",
    "        y_hat = quantized_module_b(emb)\n",
    "        Y.append(y_hat)\n",
    "        gt.append(y)\n",
    "        pred.append(y_hat.argmax(-1))\n",
    "    gt = torch.cat(gt).ravel().numpy()\n",
    "    pred = torch.cat(pred).ravel().numpy()"
   ]
  },
  {
   "cell_type": "code",
   "execution_count": null,
   "metadata": {},
   "outputs": [
    {
     "data": {
      "text/plain": [
       "(330.2294006347656, 327.47565841674805)"
      ]
     },
     "execution_count": 64,
     "metadata": {},
     "output_type": "execute_result"
    }
   ],
   "source": [
    "nbytes(model), nbytes(quantized_module_a)"
   ]
  },
  {
   "cell_type": "code",
   "execution_count": null,
   "metadata": {},
   "outputs": [
    {
     "data": {
      "text/plain": [
       "0.8698089171974522"
      ]
     },
     "execution_count": 62,
     "metadata": {},
     "output_type": "execute_result"
    }
   ],
   "source": [
    "accuracy_score(gt, pred)"
   ]
  },
  {
   "cell_type": "code",
   "execution_count": null,
   "metadata": {},
   "outputs": [
    {
     "data": {
      "text/plain": [
       "20203"
      ]
     },
     "execution_count": 56,
     "metadata": {},
     "output_type": "execute_result"
    }
   ],
   "source": [
    "gc.collect()"
   ]
  }
 ],
 "metadata": {
  "kernelspec": {
   "display_name": "Python 3",
   "language": "python",
   "name": "python3"
  },
  "language_info": {
   "codemirror_mode": {
    "name": "ipython",
    "version": 3
   },
   "file_extension": ".py",
   "mimetype": "text/x-python",
   "name": "python",
   "nbconvert_exporter": "python",
   "pygments_lexer": "ipython3",
   "version": "3.10.12"
  }
 },
 "nbformat": 4,
 "nbformat_minor": 2
}
