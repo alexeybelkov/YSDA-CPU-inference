{
 "cells": [
  {
   "cell_type": "code",
   "execution_count": 1,
   "metadata": {},
   "outputs": [
    {
     "name": "stdout",
     "output_type": "stream",
     "text": [
      "DEFAULT: 4 4\n",
      "4 4\n",
      "ATen/Parallel:\n",
      "\tat::get_num_threads() : 4\n",
      "\tat::get_num_interop_threads() : 4\n",
      "OpenMP 201511 (a.k.a. OpenMP 4.5)\n",
      "\tomp_get_max_threads() : 4\n",
      "Intel(R) oneAPI Math Kernel Library Version 2022.2-Product Build 20220804 for Intel(R) 64 architecture applications\n",
      "\tmkl_get_max_threads() : 4\n",
      "Intel(R) MKL-DNN v3.1.1 (Git Hash 64f6bcbcbab628e96f33a62c3e975f8535a7bde4)\n",
      "std::thread::hardware_concurrency() : 8\n",
      "Environment variables:\n",
      "\tOMP_NUM_THREADS : [not set]\n",
      "\tMKL_NUM_THREADS : [not set]\n",
      "ATen parallel backend: OpenMP\n",
      "\n"
     ]
    }
   ],
   "source": [
    "import torch\n",
    "import torchvision\n",
    "from PIL import Image\n",
    "import numpy as np\n",
    "import random\n",
    "from tqdm import tqdm\n",
    "from datasets import load_dataset\n",
    "import torch.multiprocessing\n",
    "import os\n",
    "from torch import nn\n",
    "\n",
    "print('DEFAULT:', torch.get_num_threads(), torch.get_num_interop_threads())\n",
    "# os.environ['OMP_NUM_THREADS'] = '1'\n",
    "# os.environ['MKL_NUM_THREADS'] = '1'\n",
    "# torch.set_num_threads(1), torch.set_num_interop_threads(1)\n",
    "print(torch.get_num_threads(), torch.get_num_interop_threads())\n",
    "print(torch.__config__.parallel_info())\n",
    "\n",
    "torch.multiprocessing.set_sharing_strategy('file_system')"
   ]
  },
  {
   "cell_type": "code",
   "execution_count": 2,
   "metadata": {},
   "outputs": [],
   "source": [
    "model = torchvision.models.resnet34(weights=torchvision.models.ResNet34_Weights.IMAGENET1K_V1).eval()\n",
    "model.eval()\n",
    "transforms = torchvision.models.ResNet34_Weights.IMAGENET1K_V1.transforms"
   ]
  },
  {
   "cell_type": "code",
   "execution_count": 3,
   "metadata": {},
   "outputs": [],
   "source": [
    "with open('../imagenet1000.txt', 'r') as fopen:\n",
    "    lines = fopen.readlines()\n",
    "\n",
    "def process_classes(line: str):\n",
    "    splitted = line.strip().removeprefix('{').removesuffix(',').split(':')\n",
    "    return (int(splitted[0]), splitted[1].strip().strip('\\''))\n",
    "\n",
    "orig_classes = dict(map(process_classes, lines))\n",
    "\n",
    "imagenette_classes = dict(enumerate(['tench', 'English springer', 'cassette player', 'chain saw', 'church', 'French horn', 'garbage truck', 'gas pump', 'golf ball', 'parachute']))\n",
    "\n",
    "for k, v in imagenette_classes.items():\n",
    "    for k1, v1 in orig_classes.items():\n",
    "        if v in v1:\n",
    "            imagenette_classes[k] = k1"
   ]
  },
  {
   "cell_type": "code",
   "execution_count": 4,
   "metadata": {},
   "outputs": [],
   "source": [
    "class Dataset(torch.utils.data.Dataset):\n",
    "    def __init__(self, datasource, transforms: callable):\n",
    "        super().__init__()\n",
    "        self.transforms = transforms\n",
    "        self.datasource = datasource\n",
    "\n",
    "    def __len__(self) -> int:\n",
    "        return len(self.datasource)\n",
    "\n",
    "    def __getitem__(self, index: int) -> torch.Tensor:\n",
    "        data = self.datasource[index]\n",
    "        image, label = data['image'], data['label']\n",
    "        if image.mode != 'RGB':\n",
    "            image = Image.fromarray(np.array(image)[..., None].repeat(3, -1))\n",
    "        return self.transforms(image), imagenette_classes[label]"
   ]
  },
  {
   "cell_type": "code",
   "execution_count": 5,
   "metadata": {},
   "outputs": [],
   "source": [
    "imagenette_train = load_dataset('frgfm/imagenette', '320px', split='train')\n",
    "imagenette_valid = load_dataset('frgfm/imagenette', '320px', split='validation')"
   ]
  },
  {
   "cell_type": "code",
   "execution_count": 6,
   "metadata": {},
   "outputs": [],
   "source": [
    "num_workers = 4\n",
    "batch_size = 1"
   ]
  },
  {
   "cell_type": "code",
   "execution_count": 7,
   "metadata": {},
   "outputs": [],
   "source": [
    "tf = transforms()\n",
    "trainset = Dataset(datasource=imagenette_train, transforms=tf)\n",
    "validset = Dataset(datasource=imagenette_valid, transforms=tf)\n",
    "valid_dataloader = torch.utils.data.DataLoader(validset, num_workers=num_workers, batch_size=batch_size, shuffle=False)"
   ]
  },
  {
   "cell_type": "code",
   "execution_count": 8,
   "metadata": {},
   "outputs": [],
   "source": [
    "def nbytes(model: torch.nn.Module):\n",
    "    n = 0\n",
    "    for p in model.parameters():\n",
    "        n += p.nbytes\n",
    "    return n / 1024 ** 2"
   ]
  },
  {
   "cell_type": "code",
   "execution_count": 9,
   "metadata": {},
   "outputs": [
    {
     "data": {
      "text/plain": [
       "<torch._C.Generator at 0x7fdb1bf25730>"
      ]
     },
     "execution_count": 9,
     "metadata": {},
     "output_type": "execute_result"
    }
   ],
   "source": [
    "from torch.profiler import profile, record_function, ProfilerActivity\n",
    "from itertools import product\n",
    "from torch.quantization.observer import MinMaxObserver, MovingAverageMinMaxObserver, HistogramObserver\n",
    "from torch.ao.quantization import get_default_qconfig_mapping, get_default_qconfig\n",
    "from torch.quantization.quantize_fx import prepare_fx, convert_fx\n",
    "from torch.ao.quantization import QConfigMapping\n",
    "import gc\n",
    "from contextlib import nullcontext\n",
    "from timeit import timeit\n",
    "import time\n",
    "from sklearn.metrics import accuracy_score, top_k_accuracy_score\n",
    "import datetime\n",
    "# import torch.quantization._numeric_suite as ns\n",
    "import torch.quantization._numeric_suite_fx as ns\n",
    "\n",
    "def fix_seed(worker_id=0, seed=0xBADCAFE):\n",
    "    random.seed(seed)\n",
    "    np.random.seed(seed)\n",
    "    torch.manual_seed(seed)\n",
    "    torch.backends.cudnn.deterministic = True\n",
    "    torch.backends.cudnn.benchmark = False\n",
    "\n",
    "fix_seed()\n",
    "\n",
    "torch_generator = torch.Generator()\n",
    "torch_generator.manual_seed(0xBADCAFFE)"
   ]
  },
  {
   "cell_type": "code",
   "execution_count": 10,
   "metadata": {},
   "outputs": [],
   "source": [
    "from tqdm.notebook import tqdm\n",
    "from copy import deepcopy"
   ]
  },
  {
   "cell_type": "code",
   "execution_count": 11,
   "metadata": {},
   "outputs": [],
   "source": [
    "copy_model = deepcopy(model)\n",
    "module_a = deepcopy(model)\n",
    "module_a.fc = nn.Identity()\n",
    "module_b = model.fc"
   ]
  },
  {
   "cell_type": "code",
   "execution_count": 12,
   "metadata": {},
   "outputs": [
    {
     "name": "stdout",
     "output_type": "stream",
     "text": [
      "INFO:nncf:NNCF initialized successfully. Supported frameworks detected: torch, openvino\n",
      "WARNING:nncf:NNCF provides best results with torch==2.0.1, while current torch version is 2.1.0+cu121. If you encounter issues, consider switching to torch==2.0.1\n",
      "INFO:nncf:Collecting tensor statistics |█               | 33 / 300\n",
      "INFO:nncf:Collecting tensor statistics |███             | 66 / 300\n",
      "INFO:nncf:Collecting tensor statistics |█████           | 99 / 300\n",
      "INFO:nncf:Collecting tensor statistics |███████         | 132 / 300\n",
      "INFO:nncf:Collecting tensor statistics |████████        | 165 / 300\n",
      "INFO:nncf:Collecting tensor statistics |██████████      | 198 / 300\n",
      "INFO:nncf:Collecting tensor statistics |████████████    | 231 / 300\n",
      "INFO:nncf:Collecting tensor statistics |██████████████  | 264 / 300\n",
      "INFO:nncf:Collecting tensor statistics |███████████████ | 297 / 300\n",
      "INFO:nncf:Collecting tensor statistics |████████████████| 300 / 300\n",
      "INFO:nncf:Compiling and loading torch extension: quantized_functions_cpu...\n",
      "INFO:nncf:Finished loading torch extension: quantized_functions_cpu\n",
      "INFO:nncf:BatchNorm statistics adaptation |█               | 33 / 300\n",
      "INFO:nncf:BatchNorm statistics adaptation |███             | 66 / 300\n",
      "INFO:nncf:BatchNorm statistics adaptation |█████           | 99 / 300\n",
      "INFO:nncf:BatchNorm statistics adaptation |███████         | 132 / 300\n",
      "INFO:nncf:BatchNorm statistics adaptation |████████        | 165 / 300\n",
      "INFO:nncf:BatchNorm statistics adaptation |██████████      | 198 / 300\n",
      "INFO:nncf:BatchNorm statistics adaptation |████████████    | 231 / 300\n",
      "INFO:nncf:BatchNorm statistics adaptation |██████████████  | 264 / 300\n",
      "INFO:nncf:BatchNorm statistics adaptation |███████████████ | 297 / 300\n",
      "INFO:nncf:BatchNorm statistics adaptation |████████████████| 300 / 300\n"
     ]
    }
   ],
   "source": [
    "import nncf\n",
    "import torch\n",
    "\n",
    "\n",
    "def transform_fn(data_item):\n",
    "    images, _ = data_item\n",
    "    return images\n",
    "\n",
    "with torch.inference_mode():\n",
    "    calibration_dataset_a = nncf.Dataset(valid_dataloader, transform_fn)\n",
    "    quantized_module_a = nncf.quantize(module_a, calibration_dataset_a,  subset_size=300)"
   ]
  },
  {
   "cell_type": "code",
   "execution_count": 13,
   "metadata": {},
   "outputs": [
    {
     "data": {
      "application/vnd.jupyter.widget-view+json": {
       "model_id": "fae147066b004783b839bb1b23456843",
       "version_major": 2,
       "version_minor": 0
      },
      "text/plain": [
       "  0%|          | 0/3925 [00:00<?, ?it/s]"
      ]
     },
     "metadata": {},
     "output_type": "display_data"
    }
   ],
   "source": [
    "from typing import Iterable, Optional, Union, List, Tuple, Any\n",
    "\n",
    "with torch.inference_mode():\n",
    "    embeddigs = [quantized_module_a(x) for x, _ in tqdm(valid_dataloader)]\n",
    "\n",
    "\n",
    "class IterDataset(torch.utils.data.Dataset):\n",
    "    def __init__(self, source: Union[List, Tuple], labels: Optional[Union[List, Tuple]] = None):\n",
    "        self.source = source\n",
    "        self.labels = labels\n",
    "    def __len__(self) -> int:\n",
    "        return len(self.source)\n",
    "    def __getitem__(self, index: int) -> Tuple[Any, Any]:\n",
    "        return self.source[index], index if self.labels is None else self.labels[index]\n",
    "\n",
    "embeddigs_dataset = IterDataset(embeddigs)\n",
    "embeddigs_loader = torch.utils.data.DataLoader(embeddigs_dataset, num_workers=num_workers, batch_size=batch_size, shuffle=False)"
   ]
  },
  {
   "cell_type": "code",
   "execution_count": 14,
   "metadata": {},
   "outputs": [
    {
     "name": "stdout",
     "output_type": "stream",
     "text": [
      "INFO:nncf:Collecting tensor statistics |█               | 33 / 300\n",
      "INFO:nncf:Collecting tensor statistics |███             | 66 / 300\n",
      "INFO:nncf:Collecting tensor statistics |█████           | 99 / 300\n",
      "INFO:nncf:Collecting tensor statistics |███████         | 132 / 300\n",
      "INFO:nncf:Collecting tensor statistics |████████        | 165 / 300\n",
      "INFO:nncf:Collecting tensor statistics |██████████      | 198 / 300\n",
      "INFO:nncf:Collecting tensor statistics |████████████    | 231 / 300\n",
      "INFO:nncf:Collecting tensor statistics |██████████████  | 264 / 300\n",
      "INFO:nncf:Collecting tensor statistics |███████████████ | 297 / 300\n",
      "INFO:nncf:Collecting tensor statistics |████████████████| 300 / 300\n",
      "INFO:nncf:BatchNorm statistics adaptation |█               | 33 / 300\n",
      "INFO:nncf:BatchNorm statistics adaptation |███             | 66 / 300\n",
      "INFO:nncf:BatchNorm statistics adaptation |█████           | 99 / 300\n",
      "INFO:nncf:BatchNorm statistics adaptation |███████         | 132 / 300\n",
      "INFO:nncf:BatchNorm statistics adaptation |████████        | 165 / 300\n",
      "INFO:nncf:BatchNorm statistics adaptation |██████████      | 198 / 300\n",
      "INFO:nncf:BatchNorm statistics adaptation |████████████    | 231 / 300\n",
      "INFO:nncf:BatchNorm statistics adaptation |██████████████  | 264 / 300\n",
      "INFO:nncf:BatchNorm statistics adaptation |███████████████ | 297 / 300\n",
      "INFO:nncf:BatchNorm statistics adaptation |████████████████| 300 / 300\n"
     ]
    }
   ],
   "source": [
    "with torch.inference_mode():\n",
    "    calibration_dataset_b = nncf.Dataset(embeddigs_loader, transform_fn)\n",
    "    quantized_module_b = nncf.quantize(module_b, calibration_dataset_b, subset_size=300)"
   ]
  },
  {
   "cell_type": "code",
   "execution_count": 18,
   "metadata": {},
   "outputs": [],
   "source": [
    "import openvino as ov\n",
    "from openvino.tools.ovc import convert_model"
   ]
  },
  {
   "cell_type": "code",
   "execution_count": 61,
   "metadata": {},
   "outputs": [
    {
     "name": "stderr",
     "output_type": "stream",
     "text": [
      "/home/alexey/.local/lib/python3.10/site-packages/nncf/torch/quantization/layers.py:336: TracerWarning: Converting a tensor to a Python number might cause the trace to be incorrect. We can't record the data flow of Python values, so this value will be treated as a constant in the future. This means that the trace might not generalize to other inputs!\n",
      "  return self._level_low.item()\n",
      "/home/alexey/.local/lib/python3.10/site-packages/nncf/torch/quantization/layers.py:344: TracerWarning: Converting a tensor to a Python number might cause the trace to be incorrect. We can't record the data flow of Python values, so this value will be treated as a constant in the future. This means that the trace might not generalize to other inputs!\n",
      "  return self._level_high.item()\n"
     ]
    }
   ],
   "source": [
    "with torch.inference_mode():\n",
    "    input_f32 = validset[0][0][None]\n",
    "    onnx_path_a = '../onnx/q_resnet_a.onnx'\n",
    "    torch.onnx.export(quantized_module_a, input_f32, onnx_path_a)\n",
    "    input_f32 = torch.rand_like(embeddigs[0])\n",
    "    onnx_path_b = '../onnx/q_resnet_b.onnx'\n",
    "    torch.onnx.export(quantized_module_b, input_f32, onnx_path_b)"
   ]
  },
  {
   "cell_type": "code",
   "execution_count": 27,
   "metadata": {},
   "outputs": [],
   "source": [
    "int8_a = ov.compile_model(convert_model(onnx_path_a))\n",
    "int8_b = ov.compile_model(convert_model(onnx_path_b))"
   ]
  },
  {
   "cell_type": "code",
   "execution_count": 56,
   "metadata": {},
   "outputs": [
    {
     "ename": "NameError",
     "evalue": "name 'int8_v' is not defined",
     "output_type": "error",
     "traceback": [
      "\u001b[0;31m---------------------------------------------------------------------------\u001b[0m",
      "\u001b[0;31mNameError\u001b[0m                                 Traceback (most recent call last)",
      "\u001b[1;32m/home/alexey/YSDA/YSDA-CPU-inference/notebooks/openvino_resnet.ipynb Cell 18\u001b[0m line \u001b[0;36m1\n\u001b[0;32m----> <a href='vscode-notebook-cell:/home/alexey/YSDA/YSDA-CPU-inference/notebooks/openvino_resnet.ipynb#X35sZmlsZQ%3D%3D?line=0'>1</a>\u001b[0m int8_v\n",
      "\u001b[0;31mNameError\u001b[0m: name 'int8_v' is not defined"
     ]
    }
   ],
   "source": [
    "int"
   ]
  },
  {
   "cell_type": "code",
   "execution_count": 57,
   "metadata": {},
   "outputs": [
    {
     "data": {
      "application/vnd.jupyter.widget-view+json": {
       "model_id": "12b5e2a130bf4ebea8af5140b475a2ac",
       "version_major": 2,
       "version_minor": 0
      },
      "text/plain": [
       "  0%|          | 0/3925 [00:00<?, ?it/s]"
      ]
     },
     "metadata": {},
     "output_type": "display_data"
    }
   ],
   "source": [
    "from sklearn.metrics import accuracy_score\n",
    "gt = []\n",
    "pred = []\n",
    "# embeddings = []\n",
    "Y = []\n",
    "with torch.inference_mode():\n",
    "    for x, y in tqdm(valid_dataloader):\n",
    "        emb = int8_a(x)\n",
    "        emb = torch.from_numpy(next(iter(emb.values())))\n",
    "        # embeddings.append(emb)\n",
    "        y_hat = int8_b(emb)\n",
    "        y_hat = next(iter(y_hat.values()))\n",
    "        Y.append(y_hat)\n",
    "        gt.append(y)\n",
    "        pred.append(y_hat.argmax(-1))\n",
    "    gt = torch.cat(gt).ravel().numpy()\n",
    "    pred = np.concatenate(pred).ravel()"
   ]
  },
  {
   "cell_type": "code",
   "execution_count": 51,
   "metadata": {},
   "outputs": [
    {
     "data": {
      "text/plain": [
       "0.5498089171974522"
      ]
     },
     "execution_count": 51,
     "metadata": {},
     "output_type": "execute_result"
    }
   ],
   "source": [
    "accuracy_score(gt, pred)"
   ]
  },
  {
   "cell_type": "code",
   "execution_count": null,
   "metadata": {},
   "outputs": [],
   "source": [
    "dd"
   ]
  },
  {
   "cell_type": "code",
   "execution_count": 52,
   "metadata": {},
   "outputs": [
    {
     "data": {
      "text/plain": [
       "2957"
      ]
     },
     "execution_count": 52,
     "metadata": {},
     "output_type": "execute_result"
    }
   ],
   "source": [
    "gc.collect()"
   ]
  }
 ],
 "metadata": {
  "kernelspec": {
   "display_name": "Python 3",
   "language": "python",
   "name": "python3"
  },
  "language_info": {
   "codemirror_mode": {
    "name": "ipython",
    "version": 3
   },
   "file_extension": ".py",
   "mimetype": "text/x-python",
   "name": "python",
   "nbconvert_exporter": "python",
   "pygments_lexer": "ipython3",
   "version": "3.10.12"
  }
 },
 "nbformat": 4,
 "nbformat_minor": 2
}
